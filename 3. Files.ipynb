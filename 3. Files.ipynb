{
 "cells": [
  {
   "cell_type": "markdown",
   "metadata": {},
   "source": [
    "#### Work with files and directories"
   ]
  },
  {
   "cell_type": "code",
   "execution_count": 1,
   "metadata": {},
   "outputs": [
    {
     "name": "stdout",
     "output_type": "stream",
     "text": [
      "I am learning python from Simplilearn's Python certification course\n",
      "\n",
      "I am delighted to learn new techniques\n",
      "\n",
      "It will make my work smarter and efficient\n",
      "\n",
      "I would like to explore more about python\n"
     ]
    }
   ],
   "source": [
    "#Read a file\n",
    "\n",
    "file = open('my_file.txt')\n",
    "for lines in file.readlines():\n",
    "    print(lines)\n",
    "file.close()"
   ]
  },
  {
   "cell_type": "raw",
   "metadata": {},
   "source": [
    "Always remember to close the file after you have opened it to avoid memory leaks or any other issues with files"
   ]
  },
  {
   "cell_type": "code",
   "execution_count": 2,
   "metadata": {},
   "outputs": [
    {
     "name": "stdout",
     "output_type": "stream",
     "text": [
      "I am learning python from Simplilearn's Python certification course\n",
      "\n",
      "I am delighted to learn new techniques\n",
      "\n",
      "It will make my work smarter and efficient\n",
      "\n",
      "I would like to explore more about python\n"
     ]
    }
   ],
   "source": [
    "#Alternate way of reading a file. Using context manager\n",
    "\n",
    "with open('my_file.txt') as file:\n",
    "    for line in file:\n",
    "        print(line)"
   ]
  },
  {
   "cell_type": "code",
   "execution_count": 3,
   "metadata": {},
   "outputs": [
    {
     "ename": "UnsupportedOperation",
     "evalue": "not writable",
     "output_type": "error",
     "traceback": [
      "\u001b[0;31m---------------------------------------------------------------------------\u001b[0m",
      "\u001b[0;31mUnsupportedOperation\u001b[0m                      Traceback (most recent call last)",
      "\u001b[0;32m<ipython-input-3-50319a14fd8a>\u001b[0m in \u001b[0;36m<module>\u001b[0;34m\u001b[0m\n\u001b[1;32m      2\u001b[0m \u001b[0;34m\u001b[0m\u001b[0m\n\u001b[1;32m      3\u001b[0m \u001b[0;32mwith\u001b[0m \u001b[0mopen\u001b[0m\u001b[0;34m(\u001b[0m\u001b[0;34m'my_file.txt'\u001b[0m\u001b[0;34m)\u001b[0m \u001b[0;32mas\u001b[0m \u001b[0mfile\u001b[0m\u001b[0;34m:\u001b[0m\u001b[0;34m\u001b[0m\u001b[0;34m\u001b[0m\u001b[0m\n\u001b[0;32m----> 4\u001b[0;31m     \u001b[0mprint\u001b[0m\u001b[0;34m(\u001b[0m\u001b[0;34m'I am writing to a file'\u001b[0m\u001b[0;34m,\u001b[0m \u001b[0mfile\u001b[0m \u001b[0;34m=\u001b[0m \u001b[0mfile\u001b[0m\u001b[0;34m)\u001b[0m\u001b[0;34m\u001b[0m\u001b[0;34m\u001b[0m\u001b[0m\n\u001b[0m",
      "\u001b[0;31mUnsupportedOperation\u001b[0m: not writable"
     ]
    }
   ],
   "source": [
    "#Write to a file\n",
    "\n",
    "with open('my_file.txt') as file:\n",
    "    print('I am writing to a file', file = file)"
   ]
  },
  {
   "cell_type": "raw",
   "metadata": {},
   "source": [
    "The problem here is that we have not opened the file in an appropriate mode.\n",
    "Mode is a sring indicaing the file's type and what you want to do with it"
   ]
  },
  {
   "cell_type": "code",
   "execution_count": 6,
   "metadata": {},
   "outputs": [],
   "source": [
    "#Write to a file. Open in write mode\n",
    "\n",
    "with open('my_file_new.txt', 'w') as file:\n",
    "    print('I am writing to the file again and again. Please check', file = file)"
   ]
  },
  {
   "cell_type": "raw",
   "metadata": {},
   "source": [
    "This above code has the ability to create a new file if it doesnt exist or also truncate an existing one and overwrite it. We would like to have more control over writing to a file"
   ]
  },
  {
   "cell_type": "code",
   "execution_count": 7,
   "metadata": {},
   "outputs": [],
   "source": [
    "#Write to an existing file. Use append mode\n",
    "\n",
    "with open('my_file.txt', 'a') as file:\n",
    "    file.write('I am writing to a file in an append mode\\n I am from Vodafone')"
   ]
  },
  {
   "cell_type": "code",
   "execution_count": 19,
   "metadata": {},
   "outputs": [
    {
     "name": "stdout",
     "output_type": "stream",
     "text": [
      "[\"I am learning python from Simplilearn's Python certification course\\n\", 'I am delighted to learn new techniques\\n', 'It will make my work smarter and efficient\\n', 'I would like to explore more about python\\n', 'I am writing to a file in an append plus mode\\n', 'I am from Vodafone']\n"
     ]
    }
   ],
   "source": [
    "#Write to an existing file. Use append plus mode to read and write\n",
    "\n",
    "with open('my_file.txt', 'a') as file:\n",
    "    file.writelines(['\\nI am writing to a file in an append plus mode','\\nI am from Vodafone'])\n",
    "with open('my_file.txt', 'r') as file:\n",
    "    print([lines for lines in file.readlines()])"
   ]
  },
  {
   "cell_type": "code",
   "execution_count": 19,
   "metadata": {},
   "outputs": [
    {
     "name": "stdout",
     "output_type": "stream",
     "text": [
      "b'I am writing to a file a binary data'\n"
     ]
    }
   ],
   "source": [
    "#Read and write in a binary mode\n",
    "\n",
    "with open('my_file.bin', 'wb') as file:\n",
    "    file.write(b'I am writing to a file a binary data')\n",
    "with open('my_file.bin', 'rb') as file:\n",
    "    print(file.read())"
   ]
  },
  {
   "cell_type": "raw",
   "metadata": {},
   "source": [
    "Let us build some application\n",
    "\n",
    "Assume you are asked to build an inventory system of grocery items at a grocery store. \n",
    "Think of attributes associated with each item and also think of different methods associated with each item\n",
    "Once you have a complete idea of the items attributes and methods create a class of items\n",
    "\n",
    "Further you can categorize items into several categories such as dairy_products, bakery, vegetables, drinks etc\n",
    "Create derived classes with respective attributes for each\n",
    "\n",
    "Assuming your store can have some 20 unique items with unique ID's create a dictionary of Item ID vs its class instance\n",
    "\n",
    "At any time we need to keep a count of the items in the store. For that we need to have a class for store to \n",
    "maintain the inventory of items. The methods of store class shall be the sale of items, purchase of items, items availability etc"
   ]
  }
 ],
 "metadata": {
  "kernelspec": {
   "display_name": "Python 3",
   "language": "python",
   "name": "python3"
  },
  "language_info": {
   "codemirror_mode": {
    "name": "ipython",
    "version": 3
   },
   "file_extension": ".py",
   "mimetype": "text/x-python",
   "name": "python",
   "nbconvert_exporter": "python",
   "pygments_lexer": "ipython3",
   "version": "3.7.6"
  }
 },
 "nbformat": 4,
 "nbformat_minor": 4
}
