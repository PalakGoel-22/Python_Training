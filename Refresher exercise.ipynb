{
 "cells": [
  {
   "cell_type": "code",
   "execution_count": 1,
   "metadata": {},
   "outputs": [
    {
     "data": {
      "text/plain": [
       "'Task : \\n\\n\\nBuild a small banking interface where a user can login himself and check his balance, last 5 transactions and withdraw or deposit money.\\nEvery user should have a different username and password. Also create a directory for each user. \\nThe directory should contain two files. One which has the credentials of the user and the other which has the transactions continuously getting stored in it.\\n'"
      ]
     },
     "execution_count": 1,
     "metadata": {},
     "output_type": "execute_result"
    }
   ],
   "source": [
    "\"\"\"Task : \n",
    "\n",
    "\n",
    "Build a small banking interface where a user can login himself and check his balance, last 5 transactions and withdraw or deposit money.\n",
    "Every user should have a different username and password. Also create a directory for each user. \n",
    "The directory should contain two files. One which has the credentials of the user and the other which has the transactions continuously getting stored in it.\n",
    "\"\"\""
   ]
  },
  {
   "cell_type": "code",
   "execution_count": null,
   "metadata": {},
   "outputs": [],
   "source": [
    "import os\n",
    "\n",
    "def create_user_directory(username):\n",
    "    if not os.path.exists(username):\n",
    "        os.mkdir(username)\n",
    "        with open(os.path.join(username, \"credentials.txt\"), \"w\") as cred_file:\n",
    "            password = input(\"Enter password for {}: \".format(username))\n",
    "            cred_file.write(\"Password: {}\".format(password))\n",
    "        with open(os.path.join(username, \"transactions.txt\"), \"w\"):\n",
    "            pass\n",
    "\n",
    "def authenticate_user(username, password):\n",
    "    if os.path.exists(username):\n",
    "        with open(os.path.join(username, \"credentials.txt\"), \"r\") as cred_file:\n",
    "            saved_password = cred_file.readline().split(\": \")[1].strip()\n",
    "            return saved_password == password\n",
    "    return False\n",
    "\n",
    "def record_transaction(username, transaction):\n",
    "    with open(os.path.join(username, \"transactions.txt\"), \"a\") as trans_file:\n",
    "        trans_file.write(transaction + \"\\n\")\n",
    "\n",
    "def get_last_transactions(username, num_transactions=5):\n",
    "    transactions = []\n",
    "    with open(os.path.join(username, \"transactions.txt\"), \"r\") as trans_file:\n",
    "        lines = trans_file.readlines()\n",
    "        start_idx = max(0, len(lines) - num_transactions)\n",
    "        transactions = lines[start_idx:]\n",
    "    return transactions\n",
    "\n",
    "def main():\n",
    "    while True:\n",
    "        print(\"1. Create Account\")\n",
    "        print(\"2. Login\")\n",
    "        choice = input(\"Enter your choice: \")\n",
    "\n",
    "        if choice == \"1\":\n",
    "            username = input(\"Enter a username: \")\n",
    "            create_user_directory(username)\n",
    "            print(\"Account created successfully!\\n\")\n",
    "        elif choice == \"2\":\n",
    "            username = input(\"Enter your username: \")\n",
    "            password = input(\"Enter your password: \")\n",
    "            if authenticate_user(username, password):\n",
    "                while True:\n",
    "                    print(\"\\n1. Check Balance\")\n",
    "                    print(\"2. Last 5 Transactions\")\n",
    "                    print(\"3. Deposit Money\")\n",
    "                    print(\"4. Withdraw Money\")\n",
    "                    print(\"5. Logout\")\n",
    "                    action = input(\"Enter your choice: \")\n",
    "\n",
    "                    if action == \"1\":\n",
    "                        # Implement check balance logic here\n",
    "                        pass\n",
    "                    elif action == \"2\":\n",
    "                        transactions = get_last_transactions(username)\n",
    "                        print(\"Last 5 Transactions:\")\n",
    "                        for trans in transactions:\n",
    "                            print(trans.strip())\n",
    "                    elif action == \"3\":\n",
    "                        # Implement deposit logic here\n",
    "                        pass\n",
    "                    elif action == \"4\":\n",
    "                        # Implement withdraw logic here\n",
    "                        pass\n",
    "                    elif action == \"5\":\n",
    "                        print(\"Logged out.\")\n",
    "                        break\n",
    "                    else:\n",
    "                        print(\"Invalid choice. Please choose a valid option.\")\n",
    "            else:\n",
    "                print(\"Invalid username or password. Please try again.\")\n",
    "        else:\n",
    "            print(\"Invalid choice. Please choose a valid option.\")\n",
    "\n",
    "if __name__ == \"__main__\":\n",
    "    main()"
   ]
  }
 ],
 "metadata": {
  "kernelspec": {
   "display_name": "Python 3",
   "language": "python",
   "name": "python3"
  },
  "language_info": {
   "codemirror_mode": {
    "name": "ipython",
    "version": 3
   },
   "file_extension": ".py",
   "mimetype": "text/x-python",
   "name": "python",
   "nbconvert_exporter": "python",
   "pygments_lexer": "ipython3",
   "version": "3.7.6"
  }
 },
 "nbformat": 4,
 "nbformat_minor": 4
}
