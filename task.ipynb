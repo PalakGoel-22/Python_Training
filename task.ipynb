{
 "cells": [
  {
   "cell_type": "code",
   "execution_count": 1,
   "metadata": {},
   "outputs": [
    {
     "data": {
      "text/plain": [
       "'1. Create a null vector of size 10 but the fifth value which is 1 \\n2. Create a vector with values ranging from 10 to 49\\n3. Reverse a vector\\n4. Create a 3x3 matrix with values ranging from 0 to 8\\n5. Find indices of non-zero elements from [1,2,0,0,4,0]\\n6. Create a 3x3x3 array with random values\\n7. Create a 10x10 array with random values and find the minimum and maximum values\\n8. Create a 2d array with 1 on the border and 0 inside\\n'"
      ]
     },
     "execution_count": 1,
     "metadata": {},
     "output_type": "execute_result"
    }
   ],
   "source": [
    "\"\"\"1. Create a null vector of size 10 but the fifth value which is 1 \n",
    "2. Create a vector with values ranging from 10 to 49\n",
    "3. Reverse a vector\n",
    "4. Create a 3x3 matrix with values ranging from 0 to 8\n",
    "5. Find indices of non-zero elements from [1,2,0,0,4,0]\n",
    "6. Create a 3x3x3 array with random values\n",
    "7. Create a 10x10 array with random values and find the minimum and maximum values\n",
    "8. Create a 2d array with 1 on the border and 0 inside\n",
    "\"\"\""
   ]
  },
  {
   "cell_type": "code",
   "execution_count": 2,
   "metadata": {},
   "outputs": [],
   "source": [
    "import numpy as np"
   ]
  },
  {
   "cell_type": "code",
   "execution_count": 7,
   "metadata": {},
   "outputs": [],
   "source": [
    "arr=np.zeros(10)"
   ]
  },
  {
   "cell_type": "code",
   "execution_count": 9,
   "metadata": {},
   "outputs": [],
   "source": [
    "arr[4]=1"
   ]
  },
  {
   "cell_type": "code",
   "execution_count": 10,
   "metadata": {},
   "outputs": [
    {
     "data": {
      "text/plain": [
       "array([0., 0., 0., 0., 1., 0., 0., 0., 0., 0.])"
      ]
     },
     "execution_count": 10,
     "metadata": {},
     "output_type": "execute_result"
    }
   ],
   "source": [
    "arr"
   ]
  },
  {
   "cell_type": "code",
   "execution_count": 11,
   "metadata": {},
   "outputs": [],
   "source": [
    "arr1=np.arange(10,50)"
   ]
  },
  {
   "cell_type": "code",
   "execution_count": 12,
   "metadata": {},
   "outputs": [
    {
     "data": {
      "text/plain": [
       "array([10, 11, 12, 13, 14, 15, 16, 17, 18, 19, 20, 21, 22, 23, 24, 25, 26,\n",
       "       27, 28, 29, 30, 31, 32, 33, 34, 35, 36, 37, 38, 39, 40, 41, 42, 43,\n",
       "       44, 45, 46, 47, 48, 49])"
      ]
     },
     "execution_count": 12,
     "metadata": {},
     "output_type": "execute_result"
    }
   ],
   "source": [
    "arr1"
   ]
  },
  {
   "cell_type": "code",
   "execution_count": 14,
   "metadata": {},
   "outputs": [
    {
     "data": {
      "text/plain": [
       "array([49, 48, 47, 46, 45, 44, 43, 42, 41, 40, 39, 38, 37, 36, 35, 34, 33,\n",
       "       32, 31, 30, 29, 28, 27, 26, 25, 24, 23, 22, 21, 20, 19, 18, 17, 16,\n",
       "       15, 14, 13, 12, 11, 10])"
      ]
     },
     "execution_count": 14,
     "metadata": {},
     "output_type": "execute_result"
    }
   ],
   "source": [
    "arr1[::-1]"
   ]
  },
  {
   "cell_type": "code",
   "execution_count": 19,
   "metadata": {},
   "outputs": [
    {
     "name": "stdout",
     "output_type": "stream",
     "text": [
      "[[0 1 2]\n",
      " [3 4 5]\n",
      " [6 7 8]]\n"
     ]
    }
   ],
   "source": [
    "matrix = np.arange(9).reshape(3, 3)\n",
    "print(matrix)"
   ]
  },
  {
   "cell_type": "code",
   "execution_count": 15,
   "metadata": {},
   "outputs": [
    {
     "data": {
      "text/plain": [
       "[0, 1, 4]"
      ]
     },
     "execution_count": 15,
     "metadata": {},
     "output_type": "execute_result"
    }
   ],
   "source": [
    "list1=[1,2,0,0,4,0]\n",
    "[i for i in range(len(list1)) if list1[i]>0]"
   ]
  },
  {
   "cell_type": "code",
   "execution_count": 16,
   "metadata": {},
   "outputs": [
    {
     "name": "stdout",
     "output_type": "stream",
     "text": [
      "Task 1:\n",
      " [[[0.44465873 0.49978599 0.5080546 ]\n",
      "  [0.28520955 0.36179304 0.87569946]\n",
      "  [0.50235601 0.19719368 0.17724601]]\n",
      "\n",
      " [[0.41659366 0.89991796 0.40818767]\n",
      "  [0.46535652 0.02805111 0.68455749]\n",
      "  [0.8106411  0.35074093 0.32695307]]\n",
      "\n",
      " [[0.03594012 0.39655789 0.18493328]\n",
      "  [0.20076844 0.43860493 0.23056049]\n",
      "  [0.21638207 0.28535308 0.77304865]]]\n"
     ]
    }
   ],
   "source": [
    "array_3x3x3 = np.random.rand(3, 3, 3)\n",
    "print( array_3x3x3)"
   ]
  },
  {
   "cell_type": "code",
   "execution_count": 17,
   "metadata": {},
   "outputs": [
    {
     "name": "stdout",
     "output_type": "stream",
     "text": [
      "[[0.30107131 0.27246163 0.64698617 0.83928996 0.18783736 0.96032741\n",
      "  0.55402208 0.64208121 0.7589999  0.34125462]\n",
      " [0.41522589 0.71816943 0.69190669 0.50316739 0.73574346 0.84653773\n",
      "  0.94202957 0.50822405 0.40886272 0.66968682]\n",
      " [0.22192476 0.90256859 0.2707004  0.77661016 0.02292032 0.06181386\n",
      "  0.61163969 0.71347363 0.79766292 0.86362028]\n",
      " [0.92907195 0.43918104 0.61852937 0.27953792 0.72849804 0.91208868\n",
      "  0.03219661 0.57840381 0.53326952 0.96664942]\n",
      " [0.2356165  0.96758809 0.29000552 0.6671144  0.43760186 0.72584634\n",
      "  0.91148963 0.82503139 0.61639888 0.89265037]\n",
      " [0.60418566 0.08422383 0.23445633 0.9187105  0.26592514 0.8998246\n",
      "  0.89519053 0.39468936 0.5033398  0.61792086]\n",
      " [0.93135385 0.46609402 0.4367665  0.90264037 0.6025392  0.23518066\n",
      "  0.27719874 0.2878692  0.4203749  0.87497164]\n",
      " [0.30254659 0.64840929 0.2272291  0.54140033 0.2369977  0.77800074\n",
      "  0.3341695  0.30596435 0.39655398 0.91934373]\n",
      " [0.69480635 0.96663878 0.57288329 0.94530605 0.54230711 0.69331375\n",
      "  0.00962996 0.28681972 0.42860583 0.46851287]\n",
      " [0.25140297 0.27504184 0.89309225 0.68275266 0.63374191 0.9295153\n",
      "  0.74442641 0.12521728 0.71758332 0.0195531 ]]\n",
      "\n",
      " Minimum value: 0.009629962928390023\n",
      "\n",
      " Max 0.9675880860837303\n"
     ]
    }
   ],
   "source": [
    "array_10x10 = np.random.rand(10, 10)\n",
    "min_value = np.min(array_10x10)\n",
    "max_value = np.max(array_10x10)\n",
    "print( array_10x10)\n",
    "print(\"\\n Minimum value:\", min_value)\n",
    "print(\"\\n Max\", max_value)"
   ]
  },
  {
   "cell_type": "code",
   "execution_count": 18,
   "metadata": {},
   "outputs": [
    {
     "name": "stdout",
     "output_type": "stream",
     "text": [
      "\n",
      "Task 3:\n",
      " [[1. 1. 1. 1. 1.]\n",
      " [1. 0. 0. 0. 1.]\n",
      " [1. 0. 0. 0. 1.]\n",
      " [1. 0. 0. 0. 1.]\n",
      " [1. 1. 1. 1. 1.]]\n"
     ]
    }
   ],
   "source": [
    "array_2d = np.ones((5, 5))\n",
    "array_2d[1:-1, 1:-1] = 0\n",
    "print(\"\\nTask 3:\\n\", array_2d)"
   ]
  },
  {
   "cell_type": "code",
   "execution_count": null,
   "metadata": {},
   "outputs": [],
   "source": []
  }
 ],
 "metadata": {
  "kernelspec": {
   "display_name": "Python 3",
   "language": "python",
   "name": "python3"
  },
  "language_info": {
   "codemirror_mode": {
    "name": "ipython",
    "version": 3
   },
   "file_extension": ".py",
   "mimetype": "text/x-python",
   "name": "python",
   "nbconvert_exporter": "python",
   "pygments_lexer": "ipython3",
   "version": "3.7.6"
  }
 },
 "nbformat": 4,
 "nbformat_minor": 4
}
