{
 "cells": [
  {
   "cell_type": "code",
   "execution_count": 36,
   "metadata": {},
   "outputs": [],
   "source": [
    "#### Write file in a certain directory"
   ]
  },
  {
   "cell_type": "code",
   "execution_count": 1,
   "metadata": {},
   "outputs": [],
   "source": [
    "#Let us say we need to write a file by either accessing an existing directory or making a directory and writing over there\n",
    "\n",
    "import os"
   ]
  },
  {
   "cell_type": "code",
   "execution_count": 2,
   "metadata": {},
   "outputs": [
    {
     "data": {
      "text/plain": [
       "'/home/labsuser/Python resources/Day 7 '"
      ]
     },
     "execution_count": 2,
     "metadata": {},
     "output_type": "execute_result"
    }
   ],
   "source": [
    "#Get current working directory\n",
    "os.getcwd()"
   ]
  },
  {
   "cell_type": "code",
   "execution_count": 9,
   "metadata": {},
   "outputs": [],
   "source": [
    "##Let us create 3 sub folders within the directory\n",
    "\n",
    "os.mkdir('subfolder1')"
   ]
  },
  {
   "cell_type": "code",
   "execution_count": 22,
   "metadata": {},
   "outputs": [],
   "source": [
    "os.mkdir('subfolder2')\n",
    "os.mkdir('subfolder3')"
   ]
  },
  {
   "cell_type": "code",
   "execution_count": 42,
   "metadata": {},
   "outputs": [],
   "source": [
    "#write a file into one of these directories"
   ]
  },
  {
   "cell_type": "code",
   "execution_count": 3,
   "metadata": {},
   "outputs": [],
   "source": [
    "with open('subfolder2/my_file.txt', 'w') as file:\n",
    "    file.write('This is a file in 2nd sub folder')"
   ]
  },
  {
   "cell_type": "code",
   "execution_count": 44,
   "metadata": {},
   "outputs": [
    {
     "data": {
      "text/plain": [
       "['This is a file in 2nd sub folder']"
      ]
     },
     "execution_count": 44,
     "metadata": {},
     "output_type": "execute_result"
    }
   ],
   "source": [
    "#to read a file from the subfolder\n",
    "with open('subfolder2/my_file.txt') as stream:\n",
    "    lines = [line.rstrip() for line in stream]\n",
    "lines"
   ]
  },
  {
   "cell_type": "code",
   "execution_count": 4,
   "metadata": {},
   "outputs": [
    {
     "data": {
      "text/plain": [
       "['file.json',\n",
       " 'subfolder2',\n",
       " '.ipynb_checkpoints',\n",
       " 'reverse_file.txt',\n",
       " 'subfolder3',\n",
       " 'inventory.py',\n",
       " 'directories.ipynb',\n",
       " 'my_file.txt',\n",
       " 'solution.txt',\n",
       " '1. Files and Directories continued.ipynb',\n",
       " 'subfolder1']"
      ]
     },
     "execution_count": 4,
     "metadata": {},
     "output_type": "execute_result"
    }
   ],
   "source": [
    "#there are certain other directory methods.\n",
    "\n",
    "#List the content of any directory\n",
    "\n",
    "#listing content of current directory\n",
    "os.listdir()"
   ]
  },
  {
   "cell_type": "code",
   "execution_count": 14,
   "metadata": {},
   "outputs": [
    {
     "data": {
      "text/plain": [
       "['1. Functions.ipynb', '.ipynb_checkpoints', '2. Comprehensions.ipynb']"
      ]
     },
     "execution_count": 14,
     "metadata": {},
     "output_type": "execute_result"
    }
   ],
   "source": [
    "#listing content of any other directory\n",
    "os.listdir('../Day 4/')"
   ]
  },
  {
   "cell_type": "code",
   "execution_count": 50,
   "metadata": {},
   "outputs": [
    {
     "data": {
      "text/plain": [
       "['Day 2',\n",
       " 'Day 6',\n",
       " '.git',\n",
       " 'Day 4',\n",
       " '.ipynb_checkpoints',\n",
       " 'Day 3',\n",
       " 'Day 7 ',\n",
       " 'Day 5 ',\n",
       " 'Day 1']"
      ]
     },
     "execution_count": 50,
     "metadata": {},
     "output_type": "execute_result"
    }
   ],
   "source": [
    "os.listdir('..')"
   ]
  },
  {
   "cell_type": "code",
   "execution_count": 54,
   "metadata": {},
   "outputs": [
    {
     "data": {
      "text/plain": [
       "[('Day 2', 3),\n",
       " ('Day 6', 6),\n",
       " ('.git', 11),\n",
       " ('Day 4', 3),\n",
       " ('.ipynb_checkpoints', 0),\n",
       " ('Day 3', 4),\n",
       " ('Day 7 ', 7),\n",
       " ('Day 5 ', 4),\n",
       " ('Day 1', 2)]"
      ]
     },
     "execution_count": 54,
     "metadata": {},
     "output_type": "execute_result"
    }
   ],
   "source": [
    "#lets say you want to know how many files each directory contains\n",
    "\n",
    "[(i,len(os.listdir('../'+i))) for i in os.listdir('..')]"
   ]
  },
  {
   "cell_type": "code",
   "execution_count": 55,
   "metadata": {},
   "outputs": [],
   "source": [
    "#you want to get rid of a directory\n",
    "\n",
    "os.rmdir('subfolder1/')"
   ]
  },
  {
   "cell_type": "code",
   "execution_count": 56,
   "metadata": {},
   "outputs": [
    {
     "ename": "OSError",
     "evalue": "[Errno 39] Directory not empty: 'subfolder2/'",
     "output_type": "error",
     "traceback": [
      "\u001b[0;31m---------------------------------------------------------------------------\u001b[0m",
      "\u001b[0;31mOSError\u001b[0m                                   Traceback (most recent call last)",
      "\u001b[0;32m<ipython-input-56-9282d35872dc>\u001b[0m in \u001b[0;36m<module>\u001b[0;34m\u001b[0m\n\u001b[0;32m----> 1\u001b[0;31m \u001b[0mos\u001b[0m\u001b[0;34m.\u001b[0m\u001b[0mrmdir\u001b[0m\u001b[0;34m(\u001b[0m\u001b[0;34m'subfolder2/'\u001b[0m\u001b[0;34m)\u001b[0m\u001b[0;34m\u001b[0m\u001b[0;34m\u001b[0m\u001b[0m\n\u001b[0m",
      "\u001b[0;31mOSError\u001b[0m: [Errno 39] Directory not empty: 'subfolder2/'"
     ]
    }
   ],
   "source": [
    "#Error while removing a non empty directory\n",
    "os.rmdir('subfolder2/')"
   ]
  },
  {
   "cell_type": "code",
   "execution_count": 57,
   "metadata": {},
   "outputs": [],
   "source": [
    "#if you want to forcefully remove a directory with even files along with it\n",
    "\n",
    "import shutil\n",
    "\n",
    "shutil.rmtree('subfolder2/')"
   ]
  },
  {
   "cell_type": "code",
   "execution_count": null,
   "metadata": {},
   "outputs": [],
   "source": []
  }
 ],
 "metadata": {
  "kernelspec": {
   "display_name": "Python 3",
   "language": "python",
   "name": "python3"
  },
  "language_info": {
   "codemirror_mode": {
    "name": "ipython",
    "version": 3
   },
   "file_extension": ".py",
   "mimetype": "text/x-python",
   "name": "python",
   "nbconvert_exporter": "python",
   "pygments_lexer": "ipython3",
   "version": "3.7.6"
  }
 },
 "nbformat": 4,
 "nbformat_minor": 4
}
