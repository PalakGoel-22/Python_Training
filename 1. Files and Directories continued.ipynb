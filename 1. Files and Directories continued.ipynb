{
 "cells": [
  {
   "cell_type": "code",
   "execution_count": 1,
   "metadata": {},
   "outputs": [
    {
     "data": {
      "text/plain": [
       "'abcdefghijklmnopqrstuvwxyzABCDEFGHIJKLMNOPQRSTUVWXYZ '"
      ]
     },
     "execution_count": 1,
     "metadata": {},
     "output_type": "execute_result"
    }
   ],
   "source": [
    "from collections import Counter\n",
    "from string import ascii_letters\n",
    "\n",
    "chars = ascii_letters + ' '\n",
    "chars"
   ]
  },
  {
   "cell_type": "code",
   "execution_count": 2,
   "metadata": {},
   "outputs": [],
   "source": [
    "#get rid of any special symbol, character etc\n",
    "def sanitize(string,chars):\n",
    "    return ''.join(c for c in string if c in chars)"
   ]
  },
  {
   "cell_type": "code",
   "execution_count": 4,
   "metadata": {},
   "outputs": [],
   "source": [
    "def reverse(string):\n",
    "    return string[::-1]"
   ]
  },
  {
   "cell_type": "code",
   "execution_count": 5,
   "metadata": {},
   "outputs": [],
   "source": [
    "#to read a file\n",
    "with open('my_file.txt') as stream:\n",
    "    lines = [line.rstrip() for line in stream]"
   ]
  },
  {
   "cell_type": "code",
   "execution_count": 6,
   "metadata": {},
   "outputs": [
    {
     "data": {
      "text/plain": [
       "['Today we are learning files and directories',\n",
       " 'This is our python class',\n",
       " 'We are happy to learn python',\n",
       " 'Python is a useful language']"
      ]
     },
     "execution_count": 6,
     "metadata": {},
     "output_type": "execute_result"
    }
   ],
   "source": [
    "lines"
   ]
  },
  {
   "cell_type": "code",
   "execution_count": 7,
   "metadata": {},
   "outputs": [],
   "source": [
    "#writing the reverse string to a file\n",
    "with open('reverse_file.txt', 'w') as stream:\n",
    "       stream.write('\\n'.join(reverse(line) for line in lines))"
   ]
  },
  {
   "cell_type": "code",
   "execution_count": 8,
   "metadata": {},
   "outputs": [
    {
     "data": {
      "text/plain": [
       "['Today we are learning files and directories',\n",
       " 'This is our python class',\n",
       " 'We are happy to learn python',\n",
       " 'Python is a useful language']"
      ]
     },
     "execution_count": 8,
     "metadata": {},
     "output_type": "execute_result"
    }
   ],
   "source": [
    "lines"
   ]
  },
  {
   "cell_type": "code",
   "execution_count": 9,
   "metadata": {},
   "outputs": [],
   "source": [
    "#lets apply the sanitize function on each line\n",
    "\n",
    "lines = [sanitize(line, chars) for line in lines]"
   ]
  },
  {
   "cell_type": "code",
   "execution_count": 11,
   "metadata": {},
   "outputs": [
    {
     "data": {
      "text/plain": [
       "['Today we are learning files and directories',\n",
       " 'This is our python class',\n",
       " 'We are happy to learn python',\n",
       " 'Python is a useful language']"
      ]
     },
     "execution_count": 11,
     "metadata": {},
     "output_type": "execute_result"
    }
   ],
   "source": [
    "lines"
   ]
  },
  {
   "cell_type": "code",
   "execution_count": 12,
   "metadata": {},
   "outputs": [
    {
     "data": {
      "text/plain": [
       "'Today we are learning files and directories. This is our python class. We are happy to learn python. Python is a useful language'"
      ]
     },
     "execution_count": 12,
     "metadata": {},
     "output_type": "execute_result"
    }
   ],
   "source": [
    "#Lets merge all sentences\n",
    "\n",
    "whole_sentence = '. '.join(lines)\n",
    "whole_sentence"
   ]
  },
  {
   "cell_type": "code",
   "execution_count": 13,
   "metadata": {},
   "outputs": [
    {
     "data": {
      "text/plain": [
       "Counter({'today': 1,\n",
       "         'we': 2,\n",
       "         'are': 2,\n",
       "         'learning': 1,\n",
       "         'files': 1,\n",
       "         'and': 1,\n",
       "         'directories.': 1,\n",
       "         'this': 1,\n",
       "         'is': 2,\n",
       "         'our': 1,\n",
       "         'python': 2,\n",
       "         'class.': 1,\n",
       "         'happy': 1,\n",
       "         'to': 1,\n",
       "         'learn': 1,\n",
       "         'python.': 1,\n",
       "         'a': 1,\n",
       "         'useful': 1,\n",
       "         'language': 1})"
      ]
     },
     "execution_count": 13,
     "metadata": {},
     "output_type": "execute_result"
    }
   ],
   "source": [
    "#Convert them to lowercase and create statistics\n",
    "cnt = Counter(whole_sentence.lower().split())\n",
    "cnt"
   ]
  },
  {
   "cell_type": "code",
   "execution_count": 19,
   "metadata": {},
   "outputs": [
    {
     "data": {
      "text/plain": [
       "[('we', 2), ('are', 2), ('is', 2), ('python', 2)]"
      ]
     },
     "execution_count": 19,
     "metadata": {},
     "output_type": "execute_result"
    }
   ],
   "source": [
    "cnt.most_common(4)"
   ]
  },
  {
   "cell_type": "code",
   "execution_count": 36,
   "metadata": {},
   "outputs": [],
   "source": [
    "#### Write file in a certain directory"
   ]
  },
  {
   "cell_type": "code",
   "execution_count": 20,
   "metadata": {},
   "outputs": [],
   "source": [
    "#Let us say we need to write a file by either accessing an existing directory or making a directory and writing over there\n",
    "\n",
    "import os"
   ]
  },
  {
   "cell_type": "code",
   "execution_count": 21,
   "metadata": {},
   "outputs": [
    {
     "data": {
      "text/plain": [
       "'/home/labsuser/Python resources/Day 7 '"
      ]
     },
     "execution_count": 21,
     "metadata": {},
     "output_type": "execute_result"
    }
   ],
   "source": [
    "#Get current working directory\n",
    "os.getcwd()"
   ]
  },
  {
   "cell_type": "code",
   "execution_count": 9,
   "metadata": {},
   "outputs": [],
   "source": [
    "##Let us create 3 sub folders within the directory\n",
    "\n",
    "os.mkdir('subfolder1')"
   ]
  },
  {
   "cell_type": "code",
   "execution_count": 22,
   "metadata": {},
   "outputs": [],
   "source": [
    "os.mkdir('subfolder2')\n",
    "os.mkdir('subfolder3')"
   ]
  },
  {
   "cell_type": "code",
   "execution_count": 42,
   "metadata": {},
   "outputs": [],
   "source": [
    "#write a file into one of these directories"
   ]
  },
  {
   "cell_type": "code",
   "execution_count": 23,
   "metadata": {},
   "outputs": [],
   "source": [
    "with open('subfolder2/my_file.txt', 'w') as file:\n",
    "    file.write('This is a file in 2nd sub folder')"
   ]
  },
  {
   "cell_type": "code",
   "execution_count": 44,
   "metadata": {},
   "outputs": [
    {
     "data": {
      "text/plain": [
       "['This is a file in 2nd sub folder']"
      ]
     },
     "execution_count": 44,
     "metadata": {},
     "output_type": "execute_result"
    }
   ],
   "source": [
    "#to read a file from the subfolder\n",
    "with open('subfolder2/my_file.txt') as stream:\n",
    "    lines = [line.rstrip() for line in stream]\n",
    "lines"
   ]
  },
  {
   "cell_type": "code",
   "execution_count": 13,
   "metadata": {},
   "outputs": [
    {
     "data": {
      "text/plain": [
       "['file.json',\n",
       " 'subfolder2',\n",
       " '.ipynb_checkpoints',\n",
       " 'reverse_file.txt',\n",
       " 'subfolder3',\n",
       " 'inventory.py',\n",
       " 'my_file.txt',\n",
       " '1. Files and Directories continued.ipynb',\n",
       " 'subfolder1']"
      ]
     },
     "execution_count": 13,
     "metadata": {},
     "output_type": "execute_result"
    }
   ],
   "source": [
    "#there are certain other directory methods.\n",
    "\n",
    "#List the content of any directory\n",
    "\n",
    "#listing content of current directory\n",
    "os.listdir()"
   ]
  },
  {
   "cell_type": "code",
   "execution_count": 14,
   "metadata": {},
   "outputs": [
    {
     "data": {
      "text/plain": [
       "['1. Functions.ipynb', '.ipynb_checkpoints', '2. Comprehensions.ipynb']"
      ]
     },
     "execution_count": 14,
     "metadata": {},
     "output_type": "execute_result"
    }
   ],
   "source": [
    "#listing content of any other directory\n",
    "os.listdir('../Day 4/')"
   ]
  },
  {
   "cell_type": "code",
   "execution_count": 50,
   "metadata": {},
   "outputs": [
    {
     "data": {
      "text/plain": [
       "['Day 2',\n",
       " 'Day 6',\n",
       " '.git',\n",
       " 'Day 4',\n",
       " '.ipynb_checkpoints',\n",
       " 'Day 3',\n",
       " 'Day 7 ',\n",
       " 'Day 5 ',\n",
       " 'Day 1']"
      ]
     },
     "execution_count": 50,
     "metadata": {},
     "output_type": "execute_result"
    }
   ],
   "source": [
    "os.listdir('..')"
   ]
  },
  {
   "cell_type": "code",
   "execution_count": 54,
   "metadata": {},
   "outputs": [
    {
     "data": {
      "text/plain": [
       "[('Day 2', 3),\n",
       " ('Day 6', 6),\n",
       " ('.git', 11),\n",
       " ('Day 4', 3),\n",
       " ('.ipynb_checkpoints', 0),\n",
       " ('Day 3', 4),\n",
       " ('Day 7 ', 7),\n",
       " ('Day 5 ', 4),\n",
       " ('Day 1', 2)]"
      ]
     },
     "execution_count": 54,
     "metadata": {},
     "output_type": "execute_result"
    }
   ],
   "source": [
    "#lets say you want to know how many files each directory contains\n",
    "\n",
    "[(i,len(os.listdir('../'+i))) for i in os.listdir('..')]"
   ]
  },
  {
   "cell_type": "code",
   "execution_count": 55,
   "metadata": {},
   "outputs": [],
   "source": [
    "#you want to get rid of a directory\n",
    "\n",
    "os.rmdir('subfolder1/')"
   ]
  },
  {
   "cell_type": "code",
   "execution_count": 56,
   "metadata": {},
   "outputs": [
    {
     "ename": "OSError",
     "evalue": "[Errno 39] Directory not empty: 'subfolder2/'",
     "output_type": "error",
     "traceback": [
      "\u001b[0;31m---------------------------------------------------------------------------\u001b[0m",
      "\u001b[0;31mOSError\u001b[0m                                   Traceback (most recent call last)",
      "\u001b[0;32m<ipython-input-56-9282d35872dc>\u001b[0m in \u001b[0;36m<module>\u001b[0;34m\u001b[0m\n\u001b[0;32m----> 1\u001b[0;31m \u001b[0mos\u001b[0m\u001b[0;34m.\u001b[0m\u001b[0mrmdir\u001b[0m\u001b[0;34m(\u001b[0m\u001b[0;34m'subfolder2/'\u001b[0m\u001b[0;34m)\u001b[0m\u001b[0;34m\u001b[0m\u001b[0;34m\u001b[0m\u001b[0m\n\u001b[0m",
      "\u001b[0;31mOSError\u001b[0m: [Errno 39] Directory not empty: 'subfolder2/'"
     ]
    }
   ],
   "source": [
    "#Error while removing a non empty directory\n",
    "os.rmdir('subfolder2/')"
   ]
  },
  {
   "cell_type": "code",
   "execution_count": 57,
   "metadata": {},
   "outputs": [],
   "source": [
    "#if you want to forcefully remove a directory with even files along with it\n",
    "\n",
    "import shutil\n",
    "\n",
    "shutil.rmtree('subfolder2/')"
   ]
  },
  {
   "cell_type": "markdown",
   "metadata": {},
   "source": [
    "##### Working with JSON "
   ]
  },
  {
   "cell_type": "code",
   "execution_count": 58,
   "metadata": {},
   "outputs": [],
   "source": [
    "# JSON - JavaScript Object Notation"
   ]
  },
  {
   "cell_type": "code",
   "execution_count": 60,
   "metadata": {},
   "outputs": [
    {
     "data": {
      "text/plain": [
       "{'Name': ['Mark', 'John', ' Ravi', ' Kavita'],\n",
       " 'Age': [23, 40, 29, 34],\n",
       " 'Profession': ['student', 'lawyer', 'engineer', 'manager']}"
      ]
     },
     "execution_count": 60,
     "metadata": {},
     "output_type": "execute_result"
    }
   ],
   "source": [
    "import json\n",
    "\n",
    "data = {'Name' : ['Mark', 'John',' Ravi', ' Kavita'],\n",
    "        'Age' : [23, 40, 29, 34],\n",
    "        'Profession' : ['student', 'lawyer', 'engineer', 'manager']\n",
    "       }\n",
    "data"
   ]
  },
  {
   "cell_type": "code",
   "execution_count": 61,
   "metadata": {},
   "outputs": [],
   "source": [
    "json_data = json.dumps(data)"
   ]
  },
  {
   "cell_type": "code",
   "execution_count": 62,
   "metadata": {},
   "outputs": [
    {
     "data": {
      "text/plain": [
       "'{\"Name\": [\"Mark\", \"John\", \" Ravi\", \" Kavita\"], \"Age\": [23, 40, 29, 34], \"Profession\": [\"student\", \"lawyer\", \"engineer\", \"manager\"]}'"
      ]
     },
     "execution_count": 62,
     "metadata": {},
     "output_type": "execute_result"
    }
   ],
   "source": [
    "json_data"
   ]
  },
  {
   "cell_type": "code",
   "execution_count": 63,
   "metadata": {},
   "outputs": [],
   "source": [
    "with open('file.json', 'w') as file:\n",
    "    file.write(json_data)"
   ]
  },
  {
   "cell_type": "code",
   "execution_count": 66,
   "metadata": {},
   "outputs": [
    {
     "data": {
      "text/plain": [
       "{'Name': ['Mark', 'John', ' Ravi', ' Kavita'],\n",
       " 'Age': [23, 40, 29, 34],\n",
       " 'Profession': ['student', 'lawyer', 'engineer', 'manager']}"
      ]
     },
     "execution_count": 66,
     "metadata": {},
     "output_type": "execute_result"
    }
   ],
   "source": [
    "with open('file.json') as file:\n",
    "    lines = file.read()\n",
    "    \n",
    "json.loads(lines)"
   ]
  },
  {
   "cell_type": "raw",
   "metadata": {},
   "source": [
    "Exercise : \n",
    "    \n",
    "     Create a list of items in a grocery store (10 items)\n",
    "     for each of these items create a dictionary of possible sizes, volumes\n",
    "     Write this to a json file names item_size\n",
    "     \n",
    "     Similarly create a dictionary of items and their counts (Assume all items are 10 in number)\n",
    "     Remember this would be a nested dictionary. Why ?\n",
    "     \n",
    "     Lets say we have a packet of salt which comes in multiple sizes\n",
    "     \n",
    "     items {'salt' : {'small' : 10, 'medium' : 10, 'large' : 10}}\n",
    "     \n",
    "     Save this into a json type file\n",
    "     \n",
    "     Make another json file with the same structure but instead of the count of items we will have rate of items\n",
    "     \n",
    "     items {'salt' : {'small' : 34.88, 'medium' : 48.00, 'large' : 54.00}}\n",
    "     \n",
    "     Write a function which takes in the name of item, the size(if any), the quantity \n",
    "     Check if the quantity is available in your inventory\n",
    "     If yes, then return back the total amount and if not then inform the user of the available \n",
    "     inventory of that item"
   ]
  },
  {
   "cell_type": "code",
   "execution_count": 71,
   "metadata": {},
   "outputs": [],
   "source": [
    "list_items = ['bread', 'milk', 'apple']\n",
    "item_diction = {'bread' : ['medium', 'small'],\n",
    "                'milk' : ['500ml', '1l','2l'],\n",
    "                'apple' : ['medium', 'small']}\n",
    "\n",
    "item_count = {'bread'  : {'medium'  : 10, 'small' : 10},\n",
    "             'milk'  : {'500ml'  : 10, '1l' : 10, '2l' : 10},\n",
    "             'apple'  : {'medium'  : 10, 'small' : 10}}\n",
    "\n",
    "item_rate = {'bread'  : {'medium'  : 40, 'small' : 30},\n",
    "             'milk'  : {'500ml'  : 24, '1l' : 40, '2l' : 70},\n",
    "             'apple'  : {'medium'  : 100, 'small' :80}}\n",
    "\n"
   ]
  },
  {
   "cell_type": "code",
   "execution_count": null,
   "metadata": {},
   "outputs": [],
   "source": []
  }
 ],
 "metadata": {
  "kernelspec": {
   "display_name": "Python 3",
   "language": "python",
   "name": "python3"
  },
  "language_info": {
   "codemirror_mode": {
    "name": "ipython",
    "version": 3
   },
   "file_extension": ".py",
   "mimetype": "text/x-python",
   "name": "python",
   "nbconvert_exporter": "python",
   "pygments_lexer": "ipython3",
   "version": "3.7.6"
  }
 },
 "nbformat": 4,
 "nbformat_minor": 4
}
