{
 "cells": [
  {
   "cell_type": "markdown",
   "metadata": {},
   "source": [
    "## Structured Text Files"
   ]
  },
  {
   "cell_type": "markdown",
   "metadata": {},
   "source": [
    "#### CSV - comma separated values"
   ]
  },
  {
   "cell_type": "code",
   "execution_count": 1,
   "metadata": {},
   "outputs": [],
   "source": [
    "#Create a file in a csv format\n",
    "\n",
    "import csv\n",
    "\n",
    "languages = [['Python', 'easy'],\n",
    "             ['Java', 'intermediate'],\n",
    "             ['C', 'hard'],\n",
    "             ['C++', 'hard'],\n",
    "             ['html', 'easy']]\n",
    "\n",
    "with open('languages', 'w') as file:\n",
    "    csvout = csv.writer(file)\n",
    "    csvout.writerows(languages)"
   ]
  },
  {
   "cell_type": "code",
   "execution_count": 2,
   "metadata": {},
   "outputs": [
    {
     "data": {
      "text/plain": [
       "[['Python', 'easy'],\n",
       " ['Java', 'intermediate'],\n",
       " ['C', 'hard'],\n",
       " ['C++', 'hard'],\n",
       " ['html', 'easy']]"
      ]
     },
     "execution_count": 2,
     "metadata": {},
     "output_type": "execute_result"
    }
   ],
   "source": [
    "#Lets read the file\n",
    "\n",
    "with open('languages', 'r') as file:\n",
    "    csvin = csv.reader(file)\n",
    "    languages = [row for row in csvin]\n",
    "\n",
    "languages"
   ]
  },
  {
   "cell_type": "markdown",
   "metadata": {},
   "source": [
    "#### XML "
   ]
  },
  {
   "cell_type": "code",
   "execution_count": 2,
   "metadata": {},
   "outputs": [],
   "source": [
    "import xml.etree.ElementTree as et"
   ]
  },
  {
   "cell_type": "code",
   "execution_count": 3,
   "metadata": {},
   "outputs": [
    {
     "data": {
      "text/plain": [
       "'catalog'"
      ]
     },
     "execution_count": 3,
     "metadata": {},
     "output_type": "execute_result"
    }
   ],
   "source": [
    "tree = et.ElementTree(file = 'test.xml')\n",
    "root = tree.getroot()\n",
    "root.tag"
   ]
  },
  {
   "cell_type": "code",
   "execution_count": 7,
   "metadata": {},
   "outputs": [
    {
     "name": "stdout",
     "output_type": "stream",
     "text": [
      "tag: book attributes: {'id': 'bk101'}\n",
      "\ttag: author attributes: {}\n",
      "\ttag: title attributes: {}\n",
      "\ttag: genre attributes: {}\n",
      "\ttag: price attributes: {}\n",
      "\ttag: publish_date attributes: {}\n",
      "\ttag: description attributes: {}\n",
      "tag: book attributes: {'id': 'bk102'}\n",
      "\ttag: author attributes: {}\n",
      "\ttag: title attributes: {}\n",
      "\ttag: genre attributes: {}\n",
      "\ttag: price attributes: {}\n",
      "\ttag: publish_date attributes: {}\n",
      "\ttag: description attributes: {}\n",
      "tag: book attributes: {'id': 'bk103'}\n",
      "\ttag: author attributes: {}\n",
      "\ttag: title attributes: {}\n",
      "\ttag: genre attributes: {}\n",
      "\ttag: price attributes: {}\n",
      "\ttag: publish_date attributes: {}\n",
      "\ttag: description attributes: {}\n",
      "tag: book attributes: {'id': 'bk104'}\n",
      "\ttag: author attributes: {}\n",
      "\ttag: title attributes: {}\n",
      "\ttag: genre attributes: {}\n",
      "\ttag: price attributes: {}\n",
      "\ttag: publish_date attributes: {}\n",
      "\ttag: description attributes: {}\n",
      "tag: book attributes: {'id': 'bk105'}\n",
      "\ttag: author attributes: {}\n",
      "\ttag: title attributes: {}\n",
      "\ttag: genre attributes: {}\n",
      "\ttag: price attributes: {}\n",
      "\ttag: publish_date attributes: {}\n",
      "\ttag: description attributes: {}\n",
      "tag: book attributes: {'id': 'bk106'}\n",
      "\ttag: author attributes: {}\n",
      "\ttag: title attributes: {}\n",
      "\ttag: genre attributes: {}\n",
      "\ttag: price attributes: {}\n",
      "\ttag: publish_date attributes: {}\n",
      "\ttag: description attributes: {}\n",
      "tag: book attributes: {'id': 'bk107'}\n",
      "\ttag: author attributes: {}\n",
      "\ttag: title attributes: {}\n",
      "\ttag: genre attributes: {}\n",
      "\ttag: price attributes: {}\n",
      "\ttag: publish_date attributes: {}\n",
      "\ttag: description attributes: {}\n",
      "tag: book attributes: {'id': 'bk108'}\n",
      "\ttag: author attributes: {}\n",
      "\ttag: title attributes: {}\n",
      "\ttag: genre attributes: {}\n",
      "\ttag: price attributes: {}\n",
      "\ttag: publish_date attributes: {}\n",
      "\ttag: description attributes: {}\n",
      "tag: book attributes: {'id': 'bk109'}\n",
      "\ttag: author attributes: {}\n",
      "\ttag: title attributes: {}\n",
      "\ttag: genre attributes: {}\n",
      "\ttag: price attributes: {}\n",
      "\ttag: publish_date attributes: {}\n",
      "\ttag: description attributes: {}\n",
      "tag: book attributes: {'id': 'bk110'}\n",
      "\ttag: author attributes: {}\n",
      "\ttag: title attributes: {}\n",
      "\ttag: genre attributes: {}\n",
      "\ttag: price attributes: {}\n",
      "\ttag: publish_date attributes: {}\n",
      "\ttag: description attributes: {}\n",
      "tag: book attributes: {'id': 'bk111'}\n",
      "\ttag: author attributes: {}\n",
      "\ttag: title attributes: {}\n",
      "\ttag: genre attributes: {}\n",
      "\ttag: price attributes: {}\n",
      "\ttag: publish_date attributes: {}\n",
      "\ttag: description attributes: {}\n",
      "tag: book attributes: {'id': 'bk112'}\n",
      "\ttag: author attributes: {}\n",
      "\ttag: title attributes: {}\n",
      "\ttag: genre attributes: {}\n",
      "\ttag: price attributes: {}\n",
      "\ttag: publish_date attributes: {}\n",
      "\ttag: description attributes: {}\n"
     ]
    }
   ],
   "source": [
    "for child in root:\n",
    "    print('tag:', child.tag, 'attributes:', child.attrib)\n",
    "    for grandchild in child:\n",
    "        print('\\ttag:', grandchild.tag, 'attributes:', grandchild.attrib)\n",
    "        "
   ]
  },
  {
   "cell_type": "markdown",
   "metadata": {},
   "source": [
    "#### JSON "
   ]
  },
  {
   "cell_type": "code",
   "execution_count": 12,
   "metadata": {},
   "outputs": [],
   "source": [
    "import json\n",
    "\n",
    "#Create a json type object\n",
    "\n",
    "json_obj = {\"fruit\": \"Apple\", \"size\": \"Large\",\"color\": \"Red\"}\n",
    "json_file = json.dumps(json_obj)\n",
    "\n",
    "#Write to a json file\n",
    "with open('test.json', 'w') as file:\n",
    "    file.write(json_file)"
   ]
  },
  {
   "cell_type": "code",
   "execution_count": 20,
   "metadata": {},
   "outputs": [
    {
     "name": "stdout",
     "output_type": "stream",
     "text": [
      "{'fruit': 'Apple', 'size': 'Large', 'color': 'Red'}\n"
     ]
    }
   ],
   "source": [
    "# Read from a json file\n",
    "with open('test.json', 'r') as file:\n",
    "    content = json.load(file)\n",
    "print(content)"
   ]
  },
  {
   "cell_type": "markdown",
   "metadata": {},
   "source": [
    "Exercise : \n",
    "    \n",
    "    Create a class Payment with attributes PaymentID, PaymentDate, Amount and Remarks\n",
    "    Create a method to update the payment records to a csv file \n",
    "    Create another method to validate if the payment amount on a certain date does not exceed 10000. If it does then\n",
    "    record the failed transaction in a json file with payment ID as key and value as date and amount. \n",
    "    "
   ]
  }
 ],
 "metadata": {
  "kernelspec": {
   "display_name": "Python 3",
   "language": "python",
   "name": "python3"
  },
  "language_info": {
   "codemirror_mode": {
    "name": "ipython",
    "version": 3
   },
   "file_extension": ".py",
   "mimetype": "text/x-python",
   "name": "python",
   "nbconvert_exporter": "python",
   "pygments_lexer": "ipython3",
   "version": "3.7.6"
  }
 },
 "nbformat": 4,
 "nbformat_minor": 4
}
